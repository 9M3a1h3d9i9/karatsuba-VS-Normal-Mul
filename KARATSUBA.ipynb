{
  "nbformat": 4,
  "nbformat_minor": 0,
  "metadata": {
    "colab": {
      "provenance": [],
      "include_colab_link": true
    },
    "kernelspec": {
      "name": "python3",
      "display_name": "Python 3"
    },
    "language_info": {
      "name": "python"
    }
  },
  "cells": [
    {
      "cell_type": "markdown",
      "metadata": {
        "id": "view-in-github",
        "colab_type": "text"
      },
      "source": [
        "<a href=\"https://colab.research.google.com/github/9M3a1h3d9i9/karatsuba-VS-Normal-Mul/blob/main/KARATSUBA.ipynb\" target=\"_parent\"><img src=\"https://colab.research.google.com/assets/colab-badge.svg\" alt=\"Open In Colab\"/></a>"
      ]
    },
    {
      "cell_type": "markdown",
      "source": [
        "# **In the name of GOD**\n",
        "\n",
        "The Project of **Design and Analysing for Algorithms** , Subject of project is Analysiation of Multiplication Third grade algorithm O(n3) VS Multiplicaion KURATSUBA algorithms.\n",
        "\n",
        "\n",
        "**Master Names:** Dr.M.SALAHI\n",
        "\n",
        "**Student Names:** Mohammad Mahdi Shafighi\n",
        "\n",
        "**Field of Study:**  Computer Science\n",
        "\n",
        "**Academic year:** 1402\n",
        "\n",
        "**Gilan University**\n"
      ],
      "metadata": {
        "id": "WcCEE64N-e9Q"
      }
    },
    {
      "cell_type": "markdown",
      "source": [
        "# Imports"
      ],
      "metadata": {
        "id": "L62ZYevYEnAT"
      }
    },
    {
      "cell_type": "code",
      "execution_count": 1,
      "metadata": {
        "id": "N75WRiHTGmW3"
      },
      "outputs": [],
      "source": [
        "import timeit\n",
        "import random\n",
        "import math\n",
        "import matplotlib.pyplot as plt\n",
        "import numpy as np"
      ]
    },
    {
      "cell_type": "markdown",
      "source": [
        "# Create a Random numbers"
      ],
      "metadata": {
        "id": "U4axG6LjEXe3"
      }
    },
    {
      "cell_type": "code",
      "source": [
        "l1, l2, tl1, tl2 = list(), list(), list(), list()\n",
        "for i in range(100):\n",
        "  for j in range(10**i,(10**i+1)):\n",
        "    l1.append(random.randint(0,j)*random.randint(0,j))\n",
        "    l2.append(random.randint(0,j)*random.randint(0,j))"
      ],
      "metadata": {
        "id": "w2_OiB-86ek6"
      },
      "execution_count": 2,
      "outputs": []
    },
    {
      "cell_type": "markdown",
      "source": [
        "# **Normal Multiplication**"
      ],
      "metadata": {
        "id": "a6QtfsjHEPxX"
      }
    },
    {
      "cell_type": "code",
      "source": [
        "def Multiplication(x, y):\n",
        "  return x * y"
      ],
      "metadata": {
        "id": "W09tzHu0ENxC"
      },
      "execution_count": 3,
      "outputs": []
    },
    {
      "cell_type": "markdown",
      "source": [
        "# third grade algorithm O(n^3)"
      ],
      "metadata": {
        "id": "-NCq_X9ez8rh"
      }
    },
    {
      "cell_type": "code",
      "source": [
        "import functools\n",
        "\n",
        "\n",
        "def counted(fn):\n",
        "    # Counter Decorator\n",
        "    def wrapper(*args, **kwargs):\n",
        "        if \"\" in args or \" \" in args:\n",
        "            return \"\".join(map(lambda s: s.strip(), args))\n",
        "        wrapper.called += 1\n",
        "        return fn(*args, **kwargs)\n",
        "    wrapper.called = 0\n",
        "    wrapper.__name__ = fn.__name__\n",
        "    return wrapper\n",
        "\n",
        "\n",
        "@counted\n",
        "def prod(x, y):\n",
        "    # x, y are strings --> returns a string of x*y\n",
        "    return str(eval(\"%s * %s\" % (x, y)))\n",
        "\n",
        "\n",
        "@counted\n",
        "def suma(x, y):\n",
        "    # x, y are strings --> returns a string of x+y\n",
        "    return str(eval(\"%s + %s\" % (x, y)))\n",
        "\n",
        "\n",
        "def one_to_n_product(d, x):\n",
        "    \"\"\"d is a single digit, x is n-digit --> returns a string of d*x\n",
        "    \"\"\"\n",
        "    result = \"\"\n",
        "    carry = \"0\"\n",
        "    for i, digit in enumerate(reversed(x)):\n",
        "        r = suma(prod(d, digit), carry)\n",
        "        carry, digit = r[:-1], r[-1]\n",
        "        result = digit + result\n",
        "    return carry + result\n",
        "\n",
        "\n",
        "def sum_middle_products(middle_products):\n",
        "    # middle_products is a list of strings --> returns a string\n",
        "    max_length = max([len(md) for md in middle_products])\n",
        "    for i, md in enumerate(middle_products):\n",
        "        middle_products[i] = \" \" * (max_length - len(md)) + md\n",
        "    carry = \"0\"\n",
        "    result = \"\"\n",
        "    for i in range(1, max_length + 1):\n",
        "        row = [carry] + [md[-i] for md in middle_products]\n",
        "        r = functools.reduce(suma, row)\n",
        "        carry, digit = r[:-1], r[-1]\n",
        "        result = digit + result\n",
        "    return carry + result\n",
        "\n",
        "\n",
        "def algorithm(x, y):\n",
        "    # x, y are integers --> returns an integer, x*y\n",
        "    x, y = str(x), str(y)\n",
        "    middle_products = []\n",
        "    for i, digit in enumerate(reversed(y)):\n",
        "        middle_products.append(one_to_n_product(digit, x) + \" \" * i)\n",
        "    return int(sum_middle_products(middle_products))"
      ],
      "metadata": {
        "id": "zuZeidYmz8H-"
      },
      "execution_count": 4,
      "outputs": []
    },
    {
      "cell_type": "markdown",
      "source": [
        "# ***Karatsuba Recursive Algorithms***"
      ],
      "metadata": {
        "id": "A7oVH9aSEQRV"
      }
    },
    {
      "cell_type": "code",
      "source": [
        "def karatsuba(x, y):\n",
        "    if x < 10 or y < 10:\n",
        "        return x * y\n",
        "    else:\n",
        "        n = max(len(str(x)), len(str(y)))\n",
        "        half = n // 2\n",
        "        a = x // (10 ** (half))  # left part of x\n",
        "        b = x % (10 ** (half))  # right part of x\n",
        "        c = y // (10 ** (half))  # left part of y\n",
        "        d = y % (10 ** (half))  # right part of y\n",
        "        ac = karatsuba(a, c)\n",
        "        bd = karatsuba(b, d)\n",
        "        ad_plus_bc = karatsuba(a+b, c+d)-ac-bd\n",
        "        return ac * (10 ** (2 * half)) + (ad_plus_bc * (10 ** half)) + bd"
      ],
      "metadata": {
        "id": "BUPKrI8Tf7hq"
      },
      "execution_count": 5,
      "outputs": []
    },
    {
      "cell_type": "markdown",
      "source": [
        "# Time Calculating"
      ],
      "metadata": {
        "id": "dcJTLzMlE3av"
      }
    },
    {
      "cell_type": "code",
      "source": [
        "for i in range(len(l1)):\n",
        "  starting_time = timeit.default_timer()\n",
        "  karatsuba(l1[i],l2[i])\n",
        "  # print(\"time difference:\", timeit.default_timer()-starting_time)\n",
        "  ending_time = timeit.default_timer()\n",
        "  tl1.append(ending_time - starting_time)\n",
        "print(tl1)\n",
        "print(len(tl1))"
      ],
      "metadata": {
        "colab": {
          "base_uri": "https://localhost:8080/"
        },
        "id": "_4X8c8ru-W-q",
        "outputId": "1cd43d65-09b2-45e3-a32e-8e1c28ef68ad"
      },
      "execution_count": 6,
      "outputs": [
        {
          "output_type": "stream",
          "name": "stdout",
          "text": [
            "[2.8080000049612863e-06, 7.149999987632327e-07, 1.551200000449171e-05, 3.4859999999525826e-05, 3.461700001139434e-05, 0.00010046299999544317, 0.00012546700000370947, 0.00017571399999383175, 0.00017725399999335423, 0.00024224999998523344, 0.00024646299999631083, 0.0002954130000034638, 0.00043289999999274187, 0.0003968320000069525, 0.00048296700001060344, 0.0034549369999865576, 0.0005353880000029676, 0.000719212000007019, 0.0008913650000010875, 0.0008267979999914132, 0.0009017010000036407, 0.0010825210000007246, 0.0010149459999979626, 0.0012335280000002058, 0.0011603859999809174, 0.0010127740000029917, 0.0010026059999859172, 0.0010033229999919513, 0.0010655709999980445, 0.0011084630000084417, 0.0011607760000060807, 0.0012440870000034465, 0.0013560399999903439, 0.0014720030000034967, 0.0015550420000067788, 0.0016182729999911771, 0.0016940569999803756, 0.0018490440000107355, 0.001832675000002837, 0.0020665520000022752, 0.0019950159999950756, 0.002114948000013328, 0.0021185599999853366, 0.0022284730000023956, 0.00241252300000383, 0.0031430989999989833, 0.0030525379999915003, 0.00337894699998742, 0.003610192000024881, 0.003930664999984401, 0.003960546000001841, 0.0029648560000055113, 0.002978666000018393, 0.0029956489999847236, 0.0032399689999920156, 0.0031888689999846065, 0.0031375840000009703, 0.0034230680000177927, 0.0034270090000063647, 0.0037010240000086014, 0.0036581820000094467, 0.0034870819999923697, 0.003720665999992434, 0.003925191000007544, 0.0038801659999876392, 0.004231957999991209, 0.004433553999973583, 0.004546567999994977, 0.004737224999985301, 0.0049855260000128965, 0.004885864000016227, 0.00504080800001816, 0.005132343999974864, 0.005182823000012604, 0.0055811020000078315, 0.005517296999983046, 0.0058241959999918436, 0.005781006999995952, 0.006014128000003893, 0.0060681939999938095, 0.006151835999986588, 0.006028460999999652, 0.006322156999999606, 0.006553964999994832, 0.006559373000015967, 0.006665204000000813, 0.006870575999982975, 0.0068259569999895575, 0.006946475999995982, 0.007132573000006914, 0.006926453999994919, 0.007132194999996955, 0.007229647999992039, 0.007557862999988174, 0.0074461799999880895, 0.007697999999976446, 0.0074975219999942055, 0.0076243009999927835, 0.008103809999994382, 0.008161806000003935]\n",
            "100\n"
          ]
        }
      ]
    },
    {
      "cell_type": "code",
      "source": [
        "for j in range(len(l1)):\n",
        "  starting_time = timeit.default_timer()\n",
        "\n",
        "  algorithm(l1[j], l2[j])\n",
        "\n",
        "  ending_time = timeit.default_timer()\n",
        "  tl2.append(ending_time - starting_time)\n",
        "print(tl2)\n",
        "print(len(tl2))"
      ],
      "metadata": {
        "id": "IKlL2dJXEAxj",
        "colab": {
          "base_uri": "https://localhost:8080/"
        },
        "outputId": "057cf31b-b1fd-41e9-fa35-17719c88b9ca"
      },
      "execution_count": 7,
      "outputs": [
        {
          "output_type": "stream",
          "name": "stdout",
          "text": [
            "[7.956600001080005e-05, 5.8487000018203616e-05, 0.0006381270000019867, 0.0010476339999740958, 0.0014091619999874183, 0.007327965000001768, 0.003957581999998183, 0.00627485299997943, 0.008480327000000898, 0.005752594999989924, 0.00643825999998171, 0.008100301000013133, 0.010205476999999519, 0.011464395999979615, 0.013264165999999022, 0.015867690999982642, 0.017855468999982804, 0.018307112000002235, 0.022356918000014048, 0.03444676600000207, 0.027006650999993553, 0.02878945200001226, 0.03236836100001028, 0.04146048999999152, 0.03955817799999295, 0.04970038999999815, 0.04841030999997997, 0.05590196299999661, 0.0625829380000198, 0.05902504299999123, 0.05957295599998247, 0.07018402700001047, 0.07051430699999628, 0.07250044599999228, 0.0841045380000196, 0.08570430200001056, 0.0920278349999819, 0.10502574299999878, 0.10191486600001554, 0.12301898500001585, 0.12531191099998296, 0.11299839200000861, 0.13322259599999597, 0.1300303650000103, 0.13628010499999732, 0.15068683399999827, 0.1595690540000021, 0.15342506399997546, 0.1703566280000075, 0.17400834699998313, 0.1836830789999908, 0.2007864740000116, 0.1940903900000137, 0.20483197300001166, 0.20863824500000305, 0.22180770200000666, 0.24114841400000842, 0.3093531979999966, 0.2545530619999852, 0.25404491700001586, 0.2692189519999886, 0.2647519139999872, 0.28360358900002325, 0.2927585230000034, 0.30077905100000635, 0.29556903200000306, 0.29833811200001037, 0.3264343520000068, 0.3295493919999899, 0.3385641720000194, 0.3430135000000121, 0.35746764299997835, 0.3568051450000098, 0.56934043199999, 0.7414802749999865, 0.7504209030000197, 0.7917669109999963, 0.5173925800000063, 0.4273838570000237, 0.4289925619999906, 0.45569164600001955, 0.4459597869999925, 0.4878429219999987, 0.48667432499999563, 0.5064024830000164, 0.5029820020000102, 0.5388966579999988, 0.5264265929999965, 0.5559315970000114, 0.5472297190000006, 0.5773505189999923, 0.5996495679999896, 0.6039932479999948, 0.6298987920000059, 0.6067477649999944, 0.6423327310000104, 1.1245792619999975, 1.2478410029999907, 0.9641461870000114, 0.6797553159999836]\n",
            "100\n"
          ]
        }
      ]
    },
    {
      "cell_type": "code",
      "source": [
        "x1, x2 = [], []\n",
        "for i in range(len(tl1)):\n",
        "  x1.append(i)\n",
        "for j in range(len(tl2)):\n",
        "  x2.append(j)"
      ],
      "metadata": {
        "id": "_x6pEi39Dk0m"
      },
      "execution_count": 8,
      "outputs": []
    },
    {
      "cell_type": "code",
      "source": [
        " fig = plt.figure(figsize=(5,4), dpi=100)\n",
        " axes = fig.add_axes( [0.1, 0.1, 0.9, 0.9] )\n",
        "\n",
        "axes.plot(x1, tl1, label=\"Karatsuba\")\n",
        "axes.plot(x2, tl2, label=\"Normal Mul\")\n",
        "\n",
        "axes.legend(loc=0)\n",
        "\n",
        "plt.show()\n"
      ],
      "metadata": {
        "colab": {
          "base_uri": "https://localhost:8080/",
          "height": 420
        },
        "id": "dTcIpCtD-4SD",
        "outputId": "c47d6379-d85c-4c48-c9ba-758a71714e14"
      },
      "execution_count": 9,
      "outputs": [
        {
          "output_type": "display_data",
          "data": {
            "text/plain": [
              "<Figure size 500x400 with 1 Axes>"
            ],
            "image/png": "[encoded data removed]"
          },
          "metadata": {}
        }
      ]
    }
  ]
}