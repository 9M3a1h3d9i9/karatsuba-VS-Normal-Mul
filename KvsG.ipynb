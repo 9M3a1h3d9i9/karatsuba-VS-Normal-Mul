{
  "nbformat": 4,
  "nbformat_minor": 0,
  "metadata": {
    "colab": {
      "provenance": [],
      "authorship_tag": "ABX9TyMvhZPe4lDvsAjY/Bme3Api",
      "include_colab_link": true
    },
    "kernelspec": {
      "name": "python3",
      "display_name": "Python 3"
    },
    "language_info": {
      "name": "python"
    }
  },
  "cells": [
    {
      "cell_type": "markdown",
      "metadata": {
        "id": "view-in-github",
        "colab_type": "text"
      },
      "source": [
        "<a href=\"https://colab.research.google.com/github/9M3a1h3d9i9/karatsuba-VS-Normal-Mul/blob/main/KvsG.ipynb\" target=\"_parent\"><img src=\"https://colab.research.google.com/assets/colab-badge.svg\" alt=\"Open In Colab\"/></a>"
      ]
    },
    {
      "cell_type": "markdown",
      "source": [
        "# import "
      ],
      "metadata": {
        "id": "JphEncnp-jgA"
      }
    },
    {
      "cell_type": "code",
      "source": [
        "import matplotlib.pyplot as plt\n",
        "import datetime\n",
        "import random\n",
        "import time\n"
      ],
      "metadata": {
        "id": "aawdn1u--j22"
      },
      "execution_count": 1,
      "outputs": []
    },
    {
      "cell_type": "markdown",
      "source": [
        "# Karatsuba Recursive Algo "
      ],
      "metadata": {
        "id": "vvahgRpd-pov"
      }
    },
    {
      "cell_type": "code",
      "execution_count": 2,
      "metadata": {
        "id": "afkx-LTNP15w"
      },
      "outputs": [],
      "source": [
        "def karatsuba(x, y):\n",
        "    if x < 10 or y < 10:\n",
        "        return x * y\n",
        "    else:\n",
        "        n = max(len(str(x)), len(str(y)))\n",
        "        half = n // 2\n",
        "        a = x // (10 ** (half))  # left part of x\n",
        "        b = x % (10 ** (half))  # right part of x\n",
        "        c = y // (10 ** (half))  # left part of y\n",
        "        d = y % (10 ** (half))  # right part of y\n",
        "        ac = karatsuba(a, c)\n",
        "        bd = karatsuba(b, d)\n",
        "        ad_plus_bc = karatsuba(a+b, c+d)-ac-bd\n",
        "        return ac * (10 ** (2 * half)) + (ad_plus_bc * (10 ** half)) + bd"
      ]
    },
    {
      "cell_type": "markdown",
      "source": [
        "# Normal Multiplication "
      ],
      "metadata": {
        "id": "L4g_3xrOBE3O"
      }
    },
    {
      "cell_type": "code",
      "source": [
        "def Multiplication(x, y):\n",
        "  return x * y"
      ],
      "metadata": {
        "id": "ACBQ-GcUBMfF"
      },
      "execution_count": null,
      "outputs": []
    },
    {
      "cell_type": "markdown",
      "source": [
        "[3rd-grade & karatsuba multiplication algorithms](http://www.marinamele.com/third-grade-karatsuba-multiplication-algorithms)"
      ],
      "metadata": {
        "id": "5nsRbLT2K6_3"
      }
    },
    {
      "cell_type": "markdown",
      "source": [
        "new algorithms\n"
      ],
      "metadata": {
        "id": "O2KAFf88u2Ln"
      }
    },
    {
      "cell_type": "code",
      "source": [
        "def gradeschool_mult(x,y):\n",
        "    if x<10 or y<10: return x*y\n",
        "    x = str(x); y = str(y);\n",
        "    # convert to string of 0/1's, MSB first\n",
        "    n = max(len(x),len(y))\n",
        "    x = \"0\"*(n-len(x))+x; y = \"0\"*(n-len(y))+y # add leading zeroes if needed\n",
        "    m = n//2\n",
        "    xtop = int(x[:-m]); xbot = int(x[-m:])\n",
        "    ytop = int(y[:-m]); ybot = int(y[-m:])\n",
        "    return 10**(2*m)*gradeschool_mult(xtop,ytop)+10**m*(gradeschool_mult(xtop,ybot)+gradeschool_mult(xbot,ytop))+gradeschool_mult(xbot,ybot)\n",
        "\n",
        "print(gradeschool_mult(100,100))\n",
        "\n",
        "def karatsuba_mult(x,y):\n",
        "    '''Multiply two simlar length integers via karatsuba algorithm.'''\n",
        "    if x<100 or y<100: return x*y\n",
        "    x = str(x); y = str(y);\n",
        "    # convert to string of 0/1's, MSB first\n",
        "    n = max(len(x),len(y))\n",
        "    x = \"0\"*(n-len(x))+x; y = \"0\"*(n-len(y))+y # add leading zeroes if needed\n",
        "    m = n//2\n",
        "    xtop = int(x[:-m]); xbot = int(x[-m:])\n",
        "    ytop = int(y[:-m]); ybot = int(y[-m:])\n",
        "    return (10**(2*m)-10**m)*karatsuba_mult(xtop,ytop)+(10**m)*karatsuba_mult(xtop+xbot,ytop+ybot) +(1-10**m)*karatsuba_mult(xbot,ybot)\n",
        "\n",
        "print(karatsuba_mult(12342323,3464565463)==12342323* 3464565463)\n"
      ],
      "metadata": {
        "colab": {
          "base_uri": "https://localhost:8080/"
        },
        "id": "eF1bl8oqrBx4",
        "outputId": "436e023a-97b4-400a-a6f8-2556889249bb"
      },
      "execution_count": null,
      "outputs": [
        {
          "output_type": "stream",
          "name": "stdout",
          "text": [
            "10000\n",
            "True\n"
          ]
        }
      ]
    },
    {
      "cell_type": "markdown",
      "source": [
        "## Run "
      ],
      "metadata": {
        "id": "x2eNvfeGhXCL"
      }
    },
    {
      "cell_type": "code",
      "source": [
        "start=10**32\n",
        "end=10**33\n",
        "n = end - start\n",
        "print(n)\n",
        "l1=list()\n",
        "for i in range(n):\n",
        "  l1.append(i)\n",
        "# print(l1)\n",
        "\n",
        "l2=list()\n",
        "l3=list()\n",
        "i=0\n",
        "lk=list()\n",
        "lm=list()\n",
        "\n",
        "while (i < len(l1)):\n",
        "  x = random.randint(start,end)\n",
        "  y = random.randint(start,end)\n",
        "\n",
        "  t1 = time.clock_gettime(0)\n",
        "  # t1_0 = datetime.datetime.now()\n",
        "  karatsuba_mult(x, y)\n",
        "  t2 = time.clock_gettime(0)\n",
        "  # t2_0 = datetime.datetime.now()\n",
        "\n",
        "  l2.append(t2-t1)\n",
        "  # l2.append(t2_0 - t1_0)\n",
        "\n",
        "  t3 = time.clock_gettime(0)\n",
        "  # t3_0 = datetime.datetime.now()\n",
        "  gradeschool_mult(x, y)\n",
        "  t4 = time.clock_gettime(0)\n",
        "  # t4_0 = datetime.datetime.now()\n",
        "  \n",
        "  l3.append(t4-t3)\n",
        "  # l3.append(t4_0-t3_0)\n",
        "\n",
        "  i+=1\n",
        "  lk.append(karatsuba_mult(x, y))\n",
        "  lm.append(gradeschool_mult(x, y))\n",
        "# print(lk)  \n",
        "print(l2)\n",
        "print(l3)\n",
        "# plt.plot(l1,l2)\n",
        "# plt.gcf().autofmt_xdate()\n",
        "\n",
        "fig = plt.figure(figsize=(5,4), dpi=100)\n",
        "axes = fig.add_axes([0.1, 0.1, 0.9, 0.9])\n",
        "\n",
        "axes.plot(l1, l2, label=\"Karatsuba\")\n",
        "axes.plot(l1, l3, label=\"Normal Mul\")\n",
        "\n",
        "axes.legend(loc=0)\n",
        "\n",
        "plt.show()\n"
      ],
      "metadata": {
        "colab": {
          "base_uri": "https://localhost:8080/"
        },
        "id": "e5PdFmzVhWaD",
        "outputId": "8d2f4362-b64b-4054-b904-370b36f40a33"
      },
      "execution_count": null,
      "outputs": [
        {
          "output_type": "stream",
          "name": "stdout",
          "text": [
            "900000000000000000000000000000000\n"
          ]
        }
      ]
    }
  ]
}